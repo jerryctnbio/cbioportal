{
 "cells": [
  {
   "cell_type": "raw",
   "metadata": {},
   "source": [
    "# This is to describe briefly the observed discrepancies among the two methods\n",
    "# of extracting all the unique variants from cbioportal for a set of given\n",
    "# genes.\n",
    "\n",
    "# The set of genes tested are: TP53, EGFR, NRAS and HRAS. The observations are\n",
    "# valid as of June 30, 2020. There are other possible discrepancies not\n",
    "# revealed here due to the limit of genes tested and the methods used.\n",
    "\n",
    "# The observations may indicate the inconsistencies in the database."
   ]
  },
  {
   "cell_type": "raw",
   "metadata": {},
   "source": [
    "# Two methods were used to extract all the unique variants and their number of\n",
    "# unique samples in the database for a given set of genes.\n",
    "\n",
    "# Method 1 uses 'fetchMutationsInMultipleMolecularProfilesUsingPOST'. This is\n",
    "# termed 'easy way' as it extracts all variants in one scoop. It appears\n",
    "# to work well but may cover some 'gray' data as shown below. Since it \n",
    "# extracts all data once it may take a longer time, and even 'choke' the\n",
    "# system.\n",
    "\n",
    "# Method 2 uses 'fetchMutationsInMolecularProfileUsingPOST'. This is termed\n",
    "# the 'hard way' as it extracts the variants in a batch mode. Each batch is\n",
    "# a combination of one molecular profile and one sample list. There are quite\n",
    "# many, hundreds of them, combinations here, but each one is faster.\n",
    "# Given a short delay between batches, this would work better and is 'easy'\n",
    "# to the system. It does not take much longer than method 1."
   ]
  },
  {
   "cell_type": "raw",
   "metadata": {},
   "source": [
    "# However, there are discrepancies observed between the two methods. Method 1\n",
    "# recovered 34 more unique samples than method 2. Here we describe what they\n",
    "# are, and speculate the reasons for them.\n",
    "\n",
    "# Discrepancy 1. This affects 33 unique samples. It is related to one\n",
    "# molecular profile 'glioma_msk_2018_mutations_uncalled'. The name 'uncalled'\n",
    "# implies 'gray' data and thus should not be counted? Further, the name of\n",
    "# this molecular profile does not conform to usual nomenclature, as they\n",
    "# usually ends with 'mutations', 'fusion', etc. Thus this is not included\n",
    "# in method 2.\n",
    "\n",
    "# Discrepany 2. This affects one unique sample. The sample ID is\n",
    "# 'TCGA-13-0765-01'. This sample is strange in that it has multiple\n",
    "# uniqueSampleKey's. It is understandable for many unique samples to share\n",
    "# a sample ID, especially if the sample IDs are simple. This sample ID is\n",
    "# not simple and it belongs to 'TCGA'.\n",
    "# The reason for the discrepancy is that the sample ID is not included \n",
    "# in the sample list ID 'ov_tcga_all'.\n",
    "\n",
    "### The following is not correct anymore as of June 30, 2020 but it was\n",
    "### true on June 29, 2020. Apparently cbioportal fixed it. During the update\n",
    "### the numbers of molecular profiles changed from 1177 to 1194 and 1196, \n",
    "### even though the number of samples did not change.\n",
    "### Thus the code for this sample is deleted. But I kept these here as a\n",
    "### record.\n",
    "# Discrepany 3. This affects one unique sample. The sample ID is\n",
    "# 'Mayo-PDX-Sarkaria-15'. The reason for the discrepancy is that the sample\n",
    "# ID is not included in the sample list ID 'gbm_mayo_pdx_sarkaria_2019_all'."
   ]
  },
  {
   "cell_type": "raw",
   "metadata": {},
   "source": [
    "# The followings are Python codes to demonstrate these discrepapcies. "
   ]
  },
  {
   "cell_type": "code",
   "execution_count": 656,
   "metadata": {},
   "outputs": [],
   "source": [
    "from IPython.core.interactiveshell import InteractiveShell\n",
    "InteractiveShell.ast_node_interactivity = \"all\"\n",
    "# possible values are: 'all', 'none', 'last' and 'last_expr'"
   ]
  },
  {
   "cell_type": "code",
   "execution_count": 657,
   "metadata": {},
   "outputs": [],
   "source": [
    "from bravado.client import SwaggerClient\n",
    "import pandas as pd\n",
    "import re\n",
    "\n",
    "cbioportal = SwaggerClient.from_url('https://www.cbioportal.org/api/api-docs',\n",
    "                                config={\"validate_requests\":False\n",
    "                                        ,\"validate_responses\":False})"
   ]
  },
  {
   "cell_type": "code",
   "execution_count": 714,
   "metadata": {},
   "outputs": [
    {
     "name": "stdout",
     "output_type": "stream",
     "text": [
      "There are 1196 molecular profiles.\n"
     ]
    }
   ],
   "source": [
    "# extract all the molecular profiles.\n",
    "molecular_profiles=cbioportal.Molecular_Profiles \\\n",
    "                              .getAllMolecularProfilesUsingGET().result()\n",
    "print(f\"There are {len(molecular_profiles)} molecular profiles.\")\n",
    "molProfIDs=[m.molecularProfileId for m in molecular_profiles]"
   ]
  },
  {
   "cell_type": "code",
   "execution_count": 702,
   "metadata": {},
   "outputs": [
    {
     "data": {
      "text/plain": [
       "True"
      ]
     },
     "execution_count": 702,
     "metadata": {},
     "output_type": "execute_result"
    }
   ],
   "source": [
    "#######################################################################\n",
    "# Discrepancy # 1, 33 of unique samples\n",
    "#######################################################################\n",
    "\n",
    "# This one is weird. Its name says 'uncalled'.\n",
    "# The name does not conform to common nomenclature for molecular profiles.\n",
    "# It should ends with '_mutations'.\n",
    "# This set is not extracted by the \"hard way\" using the pair of molecular\n",
    "# profile and sample list Id as only molecular profiles ending with\n",
    "# '_mutations' are used.\n",
    "# However, it is extracted by the \"easy way\" using multiple profiles.\n",
    "# Since its name says 'uncalled', are the mutations legit?\n",
    "'glioma_msk_2018_mutations_uncalled' in molProfIDs"
   ]
  },
  {
   "cell_type": "code",
   "execution_count": 660,
   "metadata": {},
   "outputs": [],
   "source": [
    "# test genes: EGFR, TP53, HRAS and NRAS\n",
    "geneIDs=[1956, 7157, 3265, 4893] # in the same order"
   ]
  },
  {
   "cell_type": "code",
   "execution_count": 703,
   "metadata": {},
   "outputs": [
    {
     "data": {
      "text/plain": [
       "38175"
      ]
     },
     "execution_count": 703,
     "metadata": {},
     "output_type": "execute_result"
    }
   ],
   "source": [
    "# This is the method to extract all the mutations in one step\n",
    "mutations=cbioportal.Mutations \\\n",
    "                    .fetchMutationsInMultipleMolecularProfilesUsingPOST(\n",
    "                     mutationMultipleStudyFilter={\"entrezGeneIds\":geneIDs\n",
    "                            ,\"molecularProfileIds\":molProfIDs}).result()\n",
    "len(mutations)"
   ]
  },
  {
   "cell_type": "code",
   "execution_count": 704,
   "metadata": {},
   "outputs": [
    {
     "data": {
      "text/plain": [
       "20486"
      ]
     },
     "execution_count": 704,
     "metadata": {},
     "output_type": "execute_result"
    },
    {
     "data": {
      "text/plain": [
       "31919"
      ]
     },
     "execution_count": 704,
     "metadata": {},
     "output_type": "execute_result"
    }
   ],
   "source": [
    "sampleReturnedIDs=[m.sampleId for m in mutations]\n",
    "sampleUniqueReturnedIDs=[m.uniqueSampleKey for m in mutations]\n",
    "len(set(sampleReturnedIDs))\n",
    "len(set(sampleUniqueReturnedIDs))"
   ]
  },
  {
   "cell_type": "code",
   "execution_count": 705,
   "metadata": {},
   "outputs": [
    {
     "data": {
      "text/plain": [
       "True"
      ]
     },
     "execution_count": 705,
     "metadata": {},
     "output_type": "execute_result"
    },
    {
     "data": {
      "text/plain": [
       "3"
      ]
     },
     "execution_count": 705,
     "metadata": {},
     "output_type": "execute_result"
    },
    {
     "data": {
      "text/plain": [
       "('TCGA-13-0765-01',\n",
       " 'ov_tcga_pub',\n",
       " 'ov_tcga_pub_mutations',\n",
       " 'VENHQS0xMy0wNzY1LTAxOm92X3RjZ2FfcHVi')"
      ]
     },
     "execution_count": 705,
     "metadata": {},
     "output_type": "execute_result"
    },
    {
     "data": {
      "text/plain": [
       "('TCGA-13-0765-01',\n",
       " 'ov_tcga',\n",
       " 'ov_tcga_mutations',\n",
       " 'VENHQS0xMy0wNzY1LTAxOm92X3RjZ2E')"
      ]
     },
     "execution_count": 705,
     "metadata": {},
     "output_type": "execute_result"
    },
    {
     "data": {
      "text/plain": [
       "('TCGA-13-0765-01',\n",
       " 'ov_tcga_pan_can_atlas_2018',\n",
       " 'ov_tcga_pan_can_atlas_2018_mutations',\n",
       " 'VENHQS0xMy0wNzY1LTAxOm92X3RjZ2FfcGFuX2Nhbl9hdGxhc18yMDE4')"
      ]
     },
     "execution_count": 705,
     "metadata": {},
     "output_type": "execute_result"
    }
   ],
   "source": [
    "#######################################################################\n",
    "# Discrepancy # 2, one unique sample \n",
    "#######################################################################\n",
    "\n",
    "# The sample 'TCGA-13-0765-01' showed up in three studies from 'TCGA' but\n",
    "# with sometimes different uniqueSampleKey's using the 'easy way' --- \n",
    "\n",
    "# the one step method.\n",
    "sampleOv1ID='TCGA-13-0765-01'\n",
    "sampleOv1ID in sampleReturnedIDs\n",
    "mutationOne=[[m.sampleId, m.studyId, m.molecularProfileId, m.uniqueSampleKey] \n",
    "                       for m in mutations if m.sampleId ==sampleOv1ID]\n",
    "len(mutationOne)\n",
    "xSampleID, xStudyID, xMolProfID, uniqueSampleKey=mutationOne[0]\n",
    "xSampleID, xStudyID, xMolProfID, uniqueSampleKey\n",
    "xSampleID, xStudyID, xMolProfID, uniqueSampleKey=mutationOne[1]\n",
    "xSampleID, xStudyID, xMolProfID, uniqueSampleKey\n",
    "xSampleID, xStudyID, xMolProfID, uniqueSampleKey=mutationOne[2]\n",
    "xSampleID, xStudyID, xMolProfID, uniqueSampleKey"
   ]
  },
  {
   "cell_type": "code",
   "execution_count": 715,
   "metadata": {},
   "outputs": [
    {
     "data": {
      "text/plain": [
       "288"
      ]
     },
     "execution_count": 715,
     "metadata": {},
     "output_type": "execute_result"
    },
    {
     "data": {
      "text/plain": [
       "0"
      ]
     },
     "execution_count": 715,
     "metadata": {},
     "output_type": "execute_result"
    }
   ],
   "source": [
    "# This cell shows that the same sample has no hit corresponding to the\n",
    "# second hit above by the combination of molecular profile Id and \n",
    "# sample list Id.\n",
    "\n",
    "molProfID_t='ov_tcga_mutations'\n",
    "sampleListID_t='ov_tcga_all'\n",
    "filter_t={'entrezGeneIds':geneIDs, 'sampleListId':sampleListID_t}\n",
    "mutationsOv=cbioportal.Mutations  \\\n",
    "                       .fetchMutationsInMolecularProfileUsingPOST(\n",
    "                        molecularProfileId=molProfID_t\n",
    "                       , mutationFilter=filter_t).result()\n",
    "len(mutationsOv)\n",
    "\n",
    "sampleReturnedOvIDs=[m.sampleId for m in mutationsOv \\\n",
    "                                     if m.sampleId ==sampleOv1ID]\n",
    "len(sampleReturnedOvIDs)"
   ]
  },
  {
   "cell_type": "code",
   "execution_count": 709,
   "metadata": {},
   "outputs": [
    {
     "data": {
      "text/plain": [
       "1"
      ]
     },
     "execution_count": 709,
     "metadata": {},
     "output_type": "execute_result"
    }
   ],
   "source": [
    "# As a positive control, the following sample works\n",
    "sampleOv2ID='TCGA-13-1408-01'\n",
    "sampleReturnedOvIDs=[m.sampleId for m in mutationsOv \\\n",
    "                                     if m.sampleId ==sampleOv2ID]\n",
    "len(sampleReturnedOvIDs)"
   ]
  },
  {
   "cell_type": "code",
   "execution_count": 711,
   "metadata": {},
   "outputs": [
    {
     "data": {
      "text/plain": [
       "606"
      ]
     },
     "execution_count": 711,
     "metadata": {},
     "output_type": "execute_result"
    },
    {
     "data": {
      "text/plain": [
       "False"
      ]
     },
     "execution_count": 711,
     "metadata": {},
     "output_type": "execute_result"
    },
    {
     "data": {
      "text/plain": [
       "True"
      ]
     },
     "execution_count": 711,
     "metadata": {},
     "output_type": "execute_result"
    }
   ],
   "source": [
    "# This is because the sample is not in the sample list Id.\n",
    "sample_ov=cbioportal.Sample_Lists \\\n",
    "                    .getAllSampleIdsInSampleListUsingGET(\\\n",
    "                     sampleListId=sampleListID_t).result()\n",
    "\n",
    "len(sample_ov)\n",
    "sampleOv1ID in sample_ov\n",
    "sampleOv2ID in sample_ov"
   ]
  }
 ],
 "metadata": {
  "kernelspec": {
   "display_name": "Python 3",
   "language": "python",
   "name": "python3"
  },
  "language_info": {
   "codemirror_mode": {
    "name": "ipython",
    "version": 3
   },
   "file_extension": ".py",
   "mimetype": "text/x-python",
   "name": "python",
   "nbconvert_exporter": "python",
   "pygments_lexer": "ipython3",
   "version": "3.8.2"
  }
 },
 "nbformat": 4,
 "nbformat_minor": 4
}
