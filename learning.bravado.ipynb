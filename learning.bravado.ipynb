{
 "cells": [
  {
   "cell_type": "code",
   "execution_count": 100,
   "metadata": {},
   "outputs": [],
   "source": [
    "from IPython.core.interactiveshell import InteractiveShell\n",
    "InteractiveShell.ast_node_interactivity = \"all\"\n",
    "# possible values are: 'all', 'none', 'last' and 'last_expr'"
   ]
  },
  {
   "cell_type": "code",
   "execution_count": 191,
   "metadata": {},
   "outputs": [],
   "source": [
    "import os, sys, re\n",
    "import pandas as pd\n",
    "from bravado.client import SwaggerClient \n",
    "import bravado.response\n",
    "import bravado.http_future"
   ]
  },
  {
   "cell_type": "code",
   "execution_count": 101,
   "metadata": {},
   "outputs": [],
   "source": [
    "url='https://www.cbioportal.org/api/api-docs'\n",
    "config_t={'vaildate_requests':False, 'validate_responses':False}\n",
    "cbioportal=SwaggerClient.from_url(url, config=config_t)"
   ]
  },
  {
   "cell_type": "code",
   "execution_count": 102,
   "metadata": {},
   "outputs": [
    {
     "data": {
      "text/plain": [
       "869"
      ]
     },
     "execution_count": 102,
     "metadata": {},
     "output_type": "execute_result"
    }
   ],
   "source": [
    "studies=cbioportal.Cancer_Types.getAllCancerTypesUsingGET(projection='DETAILED').result()\n",
    "len(studies)"
   ]
  },
  {
   "cell_type": "code",
   "execution_count": 12,
   "metadata": {},
   "outputs": [
    {
     "data": {
      "text/plain": [
       "TypeOfCancer(cancerTypeId='aa', clinicalTrialKeywords='aggressive angiomyxoma', dedicatedColor='LightYellow', name='Aggressive Angiomyxoma', parent='soft_tissue', shortName='AA')"
      ]
     },
     "execution_count": 12,
     "metadata": {},
     "output_type": "execute_result"
    }
   ],
   "source": [
    "studyOne=studies[0]\n",
    "studyOne"
   ]
  },
  {
   "cell_type": "code",
   "execution_count": 14,
   "metadata": {},
   "outputs": [],
   "source": [
    "# test genes: EGFR, TP53, HRAS and NRAS\n",
    "geneIDs=[1956, 7157, 3265, 4893] # in the same order"
   ]
  },
  {
   "cell_type": "code",
   "execution_count": 103,
   "metadata": {},
   "outputs": [
    {
     "data": {
      "text/plain": [
       "288"
      ]
     },
     "execution_count": 103,
     "metadata": {},
     "output_type": "execute_result"
    }
   ],
   "source": [
    "molProfID_t='ov_tcga_mutations'\n",
    "sampleListID_t='ov_tcga_all'\n",
    "filter_t={'entrezGeneIds':geneIDs, 'sampleListId':sampleListID_t}\n",
    "mutationsOv=cbioportal.Mutations  \\\n",
    "                       .fetchMutationsInMolecularProfileUsingPOST(\n",
    "                        molecularProfileId=molProfID_t\n",
    "                       , mutationFilter=filter_t\n",
    "                       , projection='DETAILED').result()\n",
    "len(mutationsOv)"
   ]
  },
  {
   "cell_type": "code",
   "execution_count": 19,
   "metadata": {},
   "outputs": [],
   "source": [
    "mutationOne=mutationsOv[0]"
   ]
  },
  {
   "cell_type": "code",
   "execution_count": 24,
   "metadata": {},
   "outputs": [
    {
     "data": {
      "text/plain": [
       "'EGFR'"
      ]
     },
     "execution_count": 24,
     "metadata": {},
     "output_type": "execute_result"
    },
    {
     "data": {
      "text/plain": [
       "1956"
      ]
     },
     "execution_count": 24,
     "metadata": {},
     "output_type": "execute_result"
    }
   ],
   "source": [
    "mutationOne.gene.hugoGeneSymbol\n",
    "mutationOne.gene.entrezGeneId"
   ]
  },
  {
   "cell_type": "code",
   "execution_count": 104,
   "metadata": {},
   "outputs": [
    {
     "data": {
      "text/plain": [
       "288"
      ]
     },
     "execution_count": 104,
     "metadata": {},
     "output_type": "execute_result"
    }
   ],
   "source": [
    "mutationsOv2=cbioportal.Mutations  \\\n",
    "                       .fetchMutationsInMolecularProfileUsingPOST(\n",
    "                        molecularProfileId=molProfID_t\n",
    "                       , mutationFilter=filter_t\n",
    "                       , projection='DETAILED').response().result\n",
    "len(mutationsOv2)"
   ]
  },
  {
   "cell_type": "code",
   "execution_count": 261,
   "metadata": {},
   "outputs": [
    {
     "name": "stdout",
     "output_type": "stream",
     "text": [
      "Failed to get anything back from the database.\n"
     ]
    },
    {
     "data": {
      "text/plain": [
       "False"
      ]
     },
     "execution_count": 261,
     "metadata": {},
     "output_type": "execute_result"
    }
   ],
   "source": [
    "filter_t={'entrezGeneIds':geneIDs, 'sampleListId':sampleListID_t}\n",
    "#filter_t['sampleIds']=['x','y']\n",
    "\n",
    "responseOv=''\n",
    "\n",
    "try:\n",
    "    responseOv=cbioportal.Mutations  \\\n",
    "                       .fetchMutationsInMolecularProfileUsingPOST(\n",
    "                        molecularProfileId=molProfID_t\n",
    "                       , mutationFilter=filter_t\n",
    "                       , projection='DETAILED') \\\n",
    "                       .response(timeout=0.000001)\n",
    "\n",
    "except bravado.http_future.BravadoTimeoutError:\n",
    "    print(f\"You are timed out!\")\n",
    "    print(f\"Please increase the timeout by '-t' or '--timeout'.\")\n",
    "except Exception as e:\n",
    "    print(f\"Failed to get anything back from the database.\")\n",
    "    \n",
    "if isinstance(responseOv, bravado.response.BravadoResponse) and \\\n",
    "                   (responseOv.incoming_response.status_code==200):\n",
    "    mutationsOv3=responseOv.result\n",
    "else:\n",
    "    mutationsOv3=''\n",
    "    \n",
    "mutationsOv2==mutationsOv3"
   ]
  },
  {
   "cell_type": "code",
   "execution_count": 269,
   "metadata": {},
   "outputs": [
    {
     "data": {
      "text/plain": [
       "'bb.cc'"
      ]
     },
     "execution_count": 269,
     "metadata": {},
     "output_type": "execute_result"
    },
    {
     "data": {
      "text/plain": [
       "'.cc'"
      ]
     },
     "execution_count": 269,
     "metadata": {},
     "output_type": "execute_result"
    },
    {
     "data": {
      "text/plain": [
       "'bb.cc.dd'"
      ]
     },
     "execution_count": 269,
     "metadata": {},
     "output_type": "execute_result"
    },
    {
     "data": {
      "text/plain": [
       "'.dd'"
      ]
     },
     "execution_count": 269,
     "metadata": {},
     "output_type": "execute_result"
    },
    {
     "data": {
      "text/plain": [
       "WindowsPath('aaa')"
      ]
     },
     "execution_count": 269,
     "metadata": {},
     "output_type": "execute_result"
    },
    {
     "data": {
      "text/plain": [
       "''"
      ]
     },
     "execution_count": 269,
     "metadata": {},
     "output_type": "execute_result"
    }
   ],
   "source": [
    "from pathlib import Path\n",
    "\n",
    "file=\"aaa/bb.cc.dd\"\n",
    "stem=Path(file).stem\n",
    "stem\n",
    "Path(stem).suffix\n",
    "Path(file).name\n",
    "Path(file).suffix\n",
    "Path(file).parent\n",
    "Path(file).anchor"
   ]
  },
  {
   "cell_type": "code",
   "execution_count": null,
   "metadata": {},
   "outputs": [],
   "source": []
  }
 ],
 "metadata": {
  "kernelspec": {
   "display_name": "Python 3",
   "language": "python",
   "name": "python3"
  },
  "language_info": {
   "codemirror_mode": {
    "name": "ipython",
    "version": 3
   },
   "file_extension": ".py",
   "mimetype": "text/x-python",
   "name": "python",
   "nbconvert_exporter": "python",
   "pygments_lexer": "ipython3",
   "version": "3.8.2"
  }
 },
 "nbformat": 4,
 "nbformat_minor": 4
}
